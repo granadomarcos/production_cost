{
 "cells": [
  {
   "cell_type": "code",
   "execution_count": 41,
   "metadata": {},
   "outputs": [],
   "source": [
    "import pandas as pd"
   ]
  },
  {
   "cell_type": "code",
   "execution_count": 67,
   "metadata": {},
   "outputs": [
    {
     "data": {
      "text/html": [
       "<div>\n",
       "<style scoped>\n",
       "    .dataframe tbody tr th:only-of-type {\n",
       "        vertical-align: middle;\n",
       "    }\n",
       "\n",
       "    .dataframe tbody tr th {\n",
       "        vertical-align: top;\n",
       "    }\n",
       "\n",
       "    .dataframe thead th {\n",
       "        text-align: right;\n",
       "    }\n",
       "</style>\n",
       "<table border=\"1\" class=\"dataframe\">\n",
       "  <thead>\n",
       "    <tr style=\"text-align: right;\">\n",
       "      <th></th>\n",
       "      <th>Account_id</th>\n",
       "      <th>reference_day</th>\n",
       "      <th>total_gmv</th>\n",
       "      <th>rdstation_mkt_gmv</th>\n",
       "    </tr>\n",
       "  </thead>\n",
       "  <tbody>\n",
       "    <tr>\n",
       "      <th>0</th>\n",
       "      <td>110438</td>\n",
       "      <td>2024-12-25 00:00:00.000000 UTC</td>\n",
       "      <td>R$ 239,40</td>\n",
       "      <td>R$ 239,40</td>\n",
       "    </tr>\n",
       "    <tr>\n",
       "      <th>1</th>\n",
       "      <td>110438</td>\n",
       "      <td>2024-12-23 00:00:00.000000 UTC</td>\n",
       "      <td>R$ 509,56</td>\n",
       "      <td>R$ 484,34</td>\n",
       "    </tr>\n",
       "    <tr>\n",
       "      <th>2</th>\n",
       "      <td>110438</td>\n",
       "      <td>2025-02-05 00:00:00.000000 UTC</td>\n",
       "      <td>R$ 2.237,11</td>\n",
       "      <td>R$ 1.423,82</td>\n",
       "    </tr>\n",
       "    <tr>\n",
       "      <th>3</th>\n",
       "      <td>110438</td>\n",
       "      <td>2025-01-15 00:00:00.000000 UTC</td>\n",
       "      <td>R$ 2.865,21</td>\n",
       "      <td>R$ 1.664,68</td>\n",
       "    </tr>\n",
       "    <tr>\n",
       "      <th>4</th>\n",
       "      <td>110438</td>\n",
       "      <td>2024-11-28 00:00:00.000000 UTC</td>\n",
       "      <td>R$ 561,78</td>\n",
       "      <td>R$ 321,06</td>\n",
       "    </tr>\n",
       "  </tbody>\n",
       "</table>\n",
       "</div>"
      ],
      "text/plain": [
       "   Account_id                   reference_day    total_gmv rdstation_mkt_gmv\n",
       "0      110438  2024-12-25 00:00:00.000000 UTC    R$ 239,40         R$ 239,40\n",
       "1      110438  2024-12-23 00:00:00.000000 UTC    R$ 509,56         R$ 484,34\n",
       "2      110438  2025-02-05 00:00:00.000000 UTC  R$ 2.237,11       R$ 1.423,82\n",
       "3      110438  2025-01-15 00:00:00.000000 UTC  R$ 2.865,21       R$ 1.664,68\n",
       "4      110438  2024-11-28 00:00:00.000000 UTC    R$ 561,78         R$ 321,06"
      ]
     },
     "execution_count": 67,
     "metadata": {},
     "output_type": "execute_result"
    }
   ],
   "source": [
    "df = pd.read_csv('ecommerce_order_paid_out_24-mar_25 - results-20250313-171121.csv',delimiter=',')\n",
    "df.head()"
   ]
  },
  {
   "cell_type": "code",
   "execution_count": 68,
   "metadata": {},
   "outputs": [],
   "source": [
    "# Function to clean currency values\n",
    "def convert_currency(value):\n",
    "    if isinstance(value, str):\n",
    "        return float(value.replace(\"R$\", \"\").replace(\".\", \"\").replace(\",\", \".\"))\n",
    "    return None  # Handle missing values"
   ]
  },
  {
   "cell_type": "code",
   "execution_count": 69,
   "metadata": {},
   "outputs": [
    {
     "data": {
      "text/html": [
       "<div>\n",
       "<style scoped>\n",
       "    .dataframe tbody tr th:only-of-type {\n",
       "        vertical-align: middle;\n",
       "    }\n",
       "\n",
       "    .dataframe tbody tr th {\n",
       "        vertical-align: top;\n",
       "    }\n",
       "\n",
       "    .dataframe thead th {\n",
       "        text-align: right;\n",
       "    }\n",
       "</style>\n",
       "<table border=\"1\" class=\"dataframe\">\n",
       "  <thead>\n",
       "    <tr style=\"text-align: right;\">\n",
       "      <th></th>\n",
       "      <th>Account_id</th>\n",
       "      <th>reference_day</th>\n",
       "      <th>total_gmv</th>\n",
       "      <th>rdstation_mkt_gmv</th>\n",
       "    </tr>\n",
       "  </thead>\n",
       "  <tbody>\n",
       "    <tr>\n",
       "      <th>0</th>\n",
       "      <td>110438</td>\n",
       "      <td>2024-12-25 00:00:00.000000 UTC</td>\n",
       "      <td>239.40</td>\n",
       "      <td>239.40</td>\n",
       "    </tr>\n",
       "    <tr>\n",
       "      <th>1</th>\n",
       "      <td>110438</td>\n",
       "      <td>2024-12-23 00:00:00.000000 UTC</td>\n",
       "      <td>509.56</td>\n",
       "      <td>484.34</td>\n",
       "    </tr>\n",
       "    <tr>\n",
       "      <th>2</th>\n",
       "      <td>110438</td>\n",
       "      <td>2025-02-05 00:00:00.000000 UTC</td>\n",
       "      <td>2237.11</td>\n",
       "      <td>1423.82</td>\n",
       "    </tr>\n",
       "    <tr>\n",
       "      <th>3</th>\n",
       "      <td>110438</td>\n",
       "      <td>2025-01-15 00:00:00.000000 UTC</td>\n",
       "      <td>2865.21</td>\n",
       "      <td>1664.68</td>\n",
       "    </tr>\n",
       "    <tr>\n",
       "      <th>4</th>\n",
       "      <td>110438</td>\n",
       "      <td>2024-11-28 00:00:00.000000 UTC</td>\n",
       "      <td>561.78</td>\n",
       "      <td>321.06</td>\n",
       "    </tr>\n",
       "  </tbody>\n",
       "</table>\n",
       "</div>"
      ],
      "text/plain": [
       "   Account_id                   reference_day  total_gmv  rdstation_mkt_gmv\n",
       "0      110438  2024-12-25 00:00:00.000000 UTC     239.40             239.40\n",
       "1      110438  2024-12-23 00:00:00.000000 UTC     509.56             484.34\n",
       "2      110438  2025-02-05 00:00:00.000000 UTC    2237.11            1423.82\n",
       "3      110438  2025-01-15 00:00:00.000000 UTC    2865.21            1664.68\n",
       "4      110438  2024-11-28 00:00:00.000000 UTC     561.78             321.06"
      ]
     },
     "execution_count": 69,
     "metadata": {},
     "output_type": "execute_result"
    }
   ],
   "source": [
    "# Apply conversion functions\n",
    "df[\"total_gmv\"] = df[\"total_gmv\"].apply(convert_currency)\n",
    "df[\"rdstation_mkt_gmv\"] = df[\"rdstation_mkt_gmv\"].apply(convert_currency)\n",
    "\n",
    "# Display DataFrame\n",
    "df.head()"
   ]
  },
  {
   "cell_type": "code",
   "execution_count": 70,
   "metadata": {},
   "outputs": [
    {
     "name": "stderr",
     "output_type": "stream",
     "text": [
      "C:\\Users\\rodri\\AppData\\Local\\Temp\\ipykernel_14872\\4047544254.py:5: UserWarning: Converting to PeriodArray/Index representation will drop timezone information.\n",
      "  df[\"year_month\"] = df[\"reference_day\"].dt.to_period(\"M\")\n"
     ]
    }
   ],
   "source": [
    "# Converter a coluna de data para o formato datetime\n",
    "df[\"reference_day\"] = pd.to_datetime(df[\"reference_day\"])\n",
    "\n",
    "# Criar uma coluna de ano-mês para o agrupamento\n",
    "df[\"year_month\"] = df[\"reference_day\"].dt.to_period(\"M\")"
   ]
  },
  {
   "cell_type": "code",
   "execution_count": 71,
   "metadata": {},
   "outputs": [
    {
     "data": {
      "text/html": [
       "<div>\n",
       "<style scoped>\n",
       "    .dataframe tbody tr th:only-of-type {\n",
       "        vertical-align: middle;\n",
       "    }\n",
       "\n",
       "    .dataframe tbody tr th {\n",
       "        vertical-align: top;\n",
       "    }\n",
       "\n",
       "    .dataframe thead th {\n",
       "        text-align: right;\n",
       "    }\n",
       "</style>\n",
       "<table border=\"1\" class=\"dataframe\">\n",
       "  <thead>\n",
       "    <tr style=\"text-align: right;\">\n",
       "      <th></th>\n",
       "      <th>Account_id</th>\n",
       "      <th>total_gmv</th>\n",
       "      <th>rdstation_mkt_gmv</th>\n",
       "    </tr>\n",
       "  </thead>\n",
       "  <tbody>\n",
       "    <tr>\n",
       "      <th>0</th>\n",
       "      <td>6583</td>\n",
       "      <td>146161.11</td>\n",
       "      <td>12342.35</td>\n",
       "    </tr>\n",
       "    <tr>\n",
       "      <th>1</th>\n",
       "      <td>8905</td>\n",
       "      <td>255960.24</td>\n",
       "      <td>31249.78</td>\n",
       "    </tr>\n",
       "    <tr>\n",
       "      <th>2</th>\n",
       "      <td>15614</td>\n",
       "      <td>1524823.54</td>\n",
       "      <td>53844.06</td>\n",
       "    </tr>\n",
       "    <tr>\n",
       "      <th>3</th>\n",
       "      <td>15634</td>\n",
       "      <td>31350.32</td>\n",
       "      <td>401.92</td>\n",
       "    </tr>\n",
       "    <tr>\n",
       "      <th>4</th>\n",
       "      <td>18740</td>\n",
       "      <td>3077.04</td>\n",
       "      <td>0.00</td>\n",
       "    </tr>\n",
       "  </tbody>\n",
       "</table>\n",
       "</div>"
      ],
      "text/plain": [
       "   Account_id   total_gmv  rdstation_mkt_gmv\n",
       "0        6583   146161.11           12342.35\n",
       "1        8905   255960.24           31249.78\n",
       "2       15614  1524823.54           53844.06\n",
       "3       15634    31350.32             401.92\n",
       "4       18740     3077.04               0.00"
      ]
     },
     "execution_count": 71,
     "metadata": {},
     "output_type": "execute_result"
    }
   ],
   "source": [
    "# Agrupar por tenant_id e mês, somando os valores de GMV\n",
    "df_grouped = df.groupby([\"Account_id\"])[[\"total_gmv\", \"rdstation_mkt_gmv\"]].sum().reset_index()\n",
    "\n",
    "# Exibir as primeiras linhas do resultado\n",
    "df_grouped.head()"
   ]
  },
  {
   "cell_type": "code",
   "execution_count": 72,
   "metadata": {},
   "outputs": [
    {
     "name": "stderr",
     "output_type": "stream",
     "text": [
      "C:\\Users\\rodri\\AppData\\Local\\Temp\\ipykernel_14872\\867529793.py:1: FutureWarning: DataFrame.applymap has been deprecated. Use DataFrame.map instead.\n",
      "  df_grouped = df_grouped.astype(str).applymap(lambda x: x.replace(\".\", \",\"))\n"
     ]
    }
   ],
   "source": [
    "df_grouped = df_grouped.astype(str).applymap(lambda x: x.replace(\".\", \",\"))"
   ]
  },
  {
   "cell_type": "code",
   "execution_count": 73,
   "metadata": {},
   "outputs": [
    {
     "data": {
      "text/html": [
       "<div>\n",
       "<style scoped>\n",
       "    .dataframe tbody tr th:only-of-type {\n",
       "        vertical-align: middle;\n",
       "    }\n",
       "\n",
       "    .dataframe tbody tr th {\n",
       "        vertical-align: top;\n",
       "    }\n",
       "\n",
       "    .dataframe thead th {\n",
       "        text-align: right;\n",
       "    }\n",
       "</style>\n",
       "<table border=\"1\" class=\"dataframe\">\n",
       "  <thead>\n",
       "    <tr style=\"text-align: right;\">\n",
       "      <th></th>\n",
       "      <th>Account_id</th>\n",
       "      <th>total_gmv</th>\n",
       "      <th>rdstation_mkt_gmv</th>\n",
       "    </tr>\n",
       "  </thead>\n",
       "  <tbody>\n",
       "    <tr>\n",
       "      <th>0</th>\n",
       "      <td>6583</td>\n",
       "      <td>146161,11</td>\n",
       "      <td>12342,35</td>\n",
       "    </tr>\n",
       "    <tr>\n",
       "      <th>1</th>\n",
       "      <td>8905</td>\n",
       "      <td>255960,24</td>\n",
       "      <td>31249,78</td>\n",
       "    </tr>\n",
       "    <tr>\n",
       "      <th>2</th>\n",
       "      <td>15614</td>\n",
       "      <td>1524823,54</td>\n",
       "      <td>53844,060000000005</td>\n",
       "    </tr>\n",
       "    <tr>\n",
       "      <th>3</th>\n",
       "      <td>15634</td>\n",
       "      <td>31350,32</td>\n",
       "      <td>401,92</td>\n",
       "    </tr>\n",
       "    <tr>\n",
       "      <th>4</th>\n",
       "      <td>18740</td>\n",
       "      <td>3077,04</td>\n",
       "      <td>0,0</td>\n",
       "    </tr>\n",
       "  </tbody>\n",
       "</table>\n",
       "</div>"
      ],
      "text/plain": [
       "  Account_id   total_gmv   rdstation_mkt_gmv\n",
       "0       6583   146161,11            12342,35\n",
       "1       8905   255960,24            31249,78\n",
       "2      15614  1524823,54  53844,060000000005\n",
       "3      15634    31350,32              401,92\n",
       "4      18740     3077,04                 0,0"
      ]
     },
     "execution_count": 73,
     "metadata": {},
     "output_type": "execute_result"
    }
   ],
   "source": [
    "df_grouped.head(5)"
   ]
  },
  {
   "cell_type": "code",
   "execution_count": null,
   "metadata": {},
   "outputs": [],
   "source": [
    "    df_grouped.to_csv(\"ecommerce_grouped_by_month_new.csv\")"
   ]
  },
  {
   "cell_type": "code",
   "execution_count": null,
   "metadata": {},
   "outputs": [],
   "source": []
  }
 ],
 "metadata": {
  "kernelspec": {
   "display_name": "ambiente-virtual",
   "language": "python",
   "name": "python3"
  },
  "language_info": {
   "codemirror_mode": {
    "name": "ipython",
    "version": 3
   },
   "file_extension": ".py",
   "mimetype": "text/x-python",
   "name": "python",
   "nbconvert_exporter": "python",
   "pygments_lexer": "ipython3",
   "version": "3.11.2"
  }
 },
 "nbformat": 4,
 "nbformat_minor": 2
}
